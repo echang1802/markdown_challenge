{
 "cells": [
  {
   "cell_type": "code",
   "execution_count": 1,
   "metadata": {},
   "outputs": [],
   "source": [
    "from tools.engine import engine\n",
    "eng = engine()"
   ]
  },
  {
   "cell_type": "code",
   "execution_count": 2,
   "metadata": {},
   "outputs": [
    {
     "name": "stdout",
     "output_type": "stream",
     "text": [
      "-----> Week 1\n",
      "Price: 100\n",
      "Unit sold: 134\n",
      "Inventory: 1866\n",
      "Revenue: 13400\n",
      "Predictions: [80, 80, 80, 80, 80, 80, 80, 80, 80, 80, 80, 80, 80, 80, 80] - Revenue; 162680.0\n"
     ]
    }
   ],
   "source": [
    "print(\"-----> Week 1\")\n",
    "eng.end_week(134)\n",
    "eng.stats()\n",
    "exe = eng.predict()\n",
    "print(\"Predictions:\", exe[\"prices\"], \"- Revenue;\", exe[\"revenue\"] + eng.revenue())"
   ]
  },
  {
   "cell_type": "code",
   "execution_count": 3,
   "metadata": {},
   "outputs": [
    {
     "name": "stdout",
     "output_type": "stream",
     "text": [
      "-----> Week 2\n",
      "Price: 80\n",
      "Unit sold: 233\n",
      "Inventory: 1633\n",
      "Revenue: 32040\n",
      "Predictions: [80, 80, 80, 80, 80, 80, 80, 80, 80, 80, 80, 80, 80, 80] - Revenue; 162680.0\n"
     ]
    }
   ],
   "source": [
    "print(\"-----> Week 2\")\n",
    "eng.down_price(2)\n",
    "eng.end_week(233)\n",
    "eng.stats()\n",
    "exe = eng.predict()\n",
    "print(\"Predictions:\", exe[\"prices\"], \"- Revenue;\", exe[\"revenue\"] + eng.revenue())"
   ]
  },
  {
   "cell_type": "code",
   "execution_count": 4,
   "metadata": {},
   "outputs": [
    {
     "name": "stdout",
     "output_type": "stream",
     "text": [
      "-----> Week 3\n",
      "Price: 80\n",
      "Unit sold: 187\n",
      "Inventory: 1446\n",
      "Revenue: 47000\n",
      "Predictions: [80, 80, 80, 80, 80, 80, 80, 80, 80, 80, 80, 80, 60] - Revenue; 162680.0\n"
     ]
    }
   ],
   "source": [
    "print(\"-----> Week 3\")\n",
    "#eng.down_price(1)\n",
    "eng.end_week(187)\n",
    "eng.stats()\n",
    "exe = eng.predict()\n",
    "print(\"Predictions:\", exe[\"prices\"], \"- Revenue;\", exe[\"revenue\"] + eng.revenue())"
   ]
  },
  {
   "cell_type": "code",
   "execution_count": 5,
   "metadata": {},
   "outputs": [
    {
     "name": "stdout",
     "output_type": "stream",
     "text": [
      "-----> Week 4\n",
      "Price: 80\n",
      "Unit sold: 218\n",
      "Inventory: 1228\n",
      "Revenue: 64440\n",
      "Predictions: [80, 80, 80, 80, 80, 80, 80, 80, 80, 80, 80, 60] - Revenue; 162680.0\n"
     ]
    }
   ],
   "source": [
    "print(\"-----> Week 4\")\n",
    "#eng.down_price(1)\n",
    "eng.end_week(218)\n",
    "eng.stats()\n",
    "exe = eng.predict()\n",
    "print(\"Predictions:\", exe[\"prices\"], \"- Revenue;\", exe[\"revenue\"] + eng.revenue())"
   ]
  },
  {
   "cell_type": "code",
   "execution_count": 6,
   "metadata": {},
   "outputs": [
    {
     "name": "stdout",
     "output_type": "stream",
     "text": [
      "-----> Week 5\n",
      "Price: 80\n",
      "Unit sold: 237\n",
      "Inventory: 991\n",
      "Revenue: 83400\n",
      "Predictions: [80, 80, 80, 80, 80, 80, 80, 80, 80, 80, 80] - Revenue; 162680.0\n"
     ]
    }
   ],
   "source": [
    "print(\"-----> Week 5\")\n",
    "#eng.down_price(1)\n",
    "eng.end_week(237)\n",
    "eng.stats()\n",
    "exe = eng.predict()\n",
    "print(\"Predictions:\", exe[\"prices\"], \"- Revenue;\", exe[\"revenue\"] + eng.revenue())"
   ]
  },
  {
   "cell_type": "code",
   "execution_count": 7,
   "metadata": {},
   "outputs": [
    {
     "name": "stdout",
     "output_type": "stream",
     "text": [
      "-----> Week 6\n",
      "Price: 80\n",
      "Unit sold: 261\n",
      "Inventory: 730\n",
      "Revenue: 104280\n",
      "Predictions: [80, 80, 80, 80, 80, 80, 80, 60, 60, 60] - Revenue; 162680.0\n"
     ]
    }
   ],
   "source": [
    "print(\"-----> Week 6\")\n",
    "#eng.down_price(1)\n",
    "eng.end_week(261)\n",
    "eng.stats()\n",
    "exe = eng.predict()\n",
    "print(\"Predictions:\", exe[\"prices\"], \"- Revenue;\", exe[\"revenue\"] + eng.revenue())"
   ]
  },
  {
   "cell_type": "code",
   "execution_count": 8,
   "metadata": {},
   "outputs": [
    {
     "name": "stdout",
     "output_type": "stream",
     "text": [
      "-----> Week 7\n",
      "Price: 80\n",
      "Unit sold: 206\n",
      "Inventory: 524\n",
      "Revenue: 120760\n",
      "Predictions: [80, 80, 80, 80, 80, 80, 80, 60, 60] - Revenue; 162680.0\n"
     ]
    }
   ],
   "source": [
    "print(\"-----> Week 7\")\n",
    "#eng.down_price(1)\n",
    "eng.end_week(206)\n",
    "eng.stats()\n",
    "exe = eng.predict()\n",
    "print(\"Predictions:\", exe[\"prices\"], \"- Revenue;\", exe[\"revenue\"] + eng.revenue())"
   ]
  },
  {
   "cell_type": "code",
   "execution_count": 9,
   "metadata": {},
   "outputs": [
    {
     "name": "stdout",
     "output_type": "stream",
     "text": [
      "-----> Week 8\n",
      "Price: 80\n",
      "Unit sold: 241\n",
      "Inventory: 283\n",
      "Revenue: 140040\n",
      "Predictions: [80, 80, 80, 80, 80, 80, 80, 80] - Revenue; 162680.0\n"
     ]
    }
   ],
   "source": [
    "print(\"-----> Week 8\")\n",
    "#eng.down_price(1)\n",
    "eng.end_week(241)\n",
    "eng.stats()\n",
    "exe = eng.predict()\n",
    "print(\"Predictions:\", exe[\"prices\"], \"- Revenue;\", exe[\"revenue\"] + eng.revenue())"
   ]
  },
  {
   "cell_type": "code",
   "execution_count": 10,
   "metadata": {},
   "outputs": [
    {
     "name": "stdout",
     "output_type": "stream",
     "text": [
      "-----> Week 9\n",
      "Price: 80\n",
      "Unit sold: 191\n",
      "Inventory: 92\n",
      "Revenue: 155320\n",
      "Predictions: [80, 80, 80, 80, 80, 80, 80] - Revenue; 162680\n"
     ]
    }
   ],
   "source": [
    "print(\"-----> Week 9\")\n",
    "#eng.down_price(1)\n",
    "eng.end_week(191)\n",
    "eng.stats()\n",
    "exe = eng.predict()\n",
    "print(\"Predictions:\", exe[\"prices\"], \"- Revenue;\", exe[\"revenue\"] + eng.revenue())"
   ]
  },
  {
   "cell_type": "code",
   "execution_count": 11,
   "metadata": {},
   "outputs": [
    {
     "name": "stdout",
     "output_type": "stream",
     "text": [
      "-----> Week 10\n",
      "Price: 80\n",
      "Unit sold: 92\n",
      "Inventory: 0\n",
      "Revenue: 162680\n"
     ]
    },
    {
     "ename": "KeyError",
     "evalue": "'prices'",
     "output_type": "error",
     "traceback": [
      "\u001b[1;31m---------------------------------------------------------------------------\u001b[0m",
      "\u001b[1;31mKeyError\u001b[0m                                  Traceback (most recent call last)",
      "\u001b[1;32m<ipython-input-11-2ecf7f171b7b>\u001b[0m in \u001b[0;36m<module>\u001b[1;34m\u001b[0m\n\u001b[0;32m      4\u001b[0m \u001b[0meng\u001b[0m\u001b[1;33m.\u001b[0m\u001b[0mstats\u001b[0m\u001b[1;33m(\u001b[0m\u001b[1;33m)\u001b[0m\u001b[1;33m\u001b[0m\u001b[1;33m\u001b[0m\u001b[0m\n\u001b[0;32m      5\u001b[0m \u001b[0mexe\u001b[0m \u001b[1;33m=\u001b[0m \u001b[0meng\u001b[0m\u001b[1;33m.\u001b[0m\u001b[0mpredict\u001b[0m\u001b[1;33m(\u001b[0m\u001b[1;33m)\u001b[0m\u001b[1;33m\u001b[0m\u001b[1;33m\u001b[0m\u001b[0m\n\u001b[1;32m----> 6\u001b[1;33m \u001b[0mprint\u001b[0m\u001b[1;33m(\u001b[0m\u001b[1;34m\"Predictions:\"\u001b[0m\u001b[1;33m,\u001b[0m \u001b[0mexe\u001b[0m\u001b[1;33m[\u001b[0m\u001b[1;34m\"prices\"\u001b[0m\u001b[1;33m]\u001b[0m\u001b[1;33m,\u001b[0m \u001b[1;34m\"- Revenue;\"\u001b[0m\u001b[1;33m,\u001b[0m \u001b[0mexe\u001b[0m\u001b[1;33m[\u001b[0m\u001b[1;34m\"revenue\"\u001b[0m\u001b[1;33m]\u001b[0m \u001b[1;33m+\u001b[0m \u001b[0meng\u001b[0m\u001b[1;33m.\u001b[0m\u001b[0mrevenue\u001b[0m\u001b[1;33m(\u001b[0m\u001b[1;33m)\u001b[0m\u001b[1;33m)\u001b[0m\u001b[1;33m\u001b[0m\u001b[1;33m\u001b[0m\u001b[0m\n\u001b[0m",
      "\u001b[1;31mKeyError\u001b[0m: 'prices'"
     ]
    }
   ],
   "source": [
    "print(\"-----> Week 10\")\n",
    "#eng.down_price(1)\n",
    "eng.end_week(237)\n",
    "eng.stats()\n",
    "exe = eng.predict()\n",
    "print(\"Predictions:\", exe[\"prices\"], \"- Revenue;\", exe[\"revenue\"] + eng.revenue())"
   ]
  },
  {
   "cell_type": "code",
   "execution_count": 12,
   "metadata": {},
   "outputs": [
    {
     "name": "stdout",
     "output_type": "stream",
     "text": [
      "-----> Week 11\n",
      "Price: 80\n",
      "Unit sold: 166\n",
      "Inventory: 708\n",
      "Revenue: 105830\n",
      "Predictions: [80, 80, 80, 80, 60] - Revenue; 157110.0\n"
     ]
    }
   ],
   "source": [
    "print(\"-----> Week 11\")\n",
    "#eng.down_price(1)\n",
    "eng.end_week(166)\n",
    "eng.stats()\n",
    "exe = eng.predict()\n",
    "print(\"Predictions:\", exe[\"prices\"], \"- Revenue;\", exe[\"revenue\"] + eng.revenue())"
   ]
  },
  {
   "cell_type": "code",
   "execution_count": 13,
   "metadata": {},
   "outputs": [
    {
     "name": "stdout",
     "output_type": "stream",
     "text": [
      "-----> Week 12\n",
      "Price: 80\n",
      "Unit sold: 175\n",
      "Inventory: 533\n",
      "Revenue: 119830\n",
      "Predictions: [80, 80, 80, 80] - Revenue; 159830.0\n"
     ]
    }
   ],
   "source": [
    "print(\"-----> Week 12\")\n",
    "#eng.down_price(1)\n",
    "eng.end_week(175)\n",
    "eng.stats()\n",
    "exe = eng.predict()\n",
    "print(\"Predictions:\", exe[\"prices\"], \"- Revenue;\", exe[\"revenue\"] + eng.revenue())"
   ]
  },
  {
   "cell_type": "code",
   "execution_count": 14,
   "metadata": {},
   "outputs": [
    {
     "name": "stdout",
     "output_type": "stream",
     "text": [
      "-----> Week 13\n",
      "Price: 80\n",
      "Unit sold: 129\n",
      "Inventory: 404\n",
      "Revenue: 130150\n",
      "Predictions: [80, 80, 80] - Revenue; 160150.0\n"
     ]
    }
   ],
   "source": [
    "print(\"-----> Week 13\")\n",
    "#eng.down_price(1)\n",
    "eng.end_week(129)\n",
    "eng.stats()\n",
    "exe = eng.predict()\n",
    "print(\"Predictions:\", exe[\"prices\"], \"- Revenue;\", exe[\"revenue\"] + eng.revenue())"
   ]
  },
  {
   "cell_type": "code",
   "execution_count": 15,
   "metadata": {},
   "outputs": [
    {
     "name": "stdout",
     "output_type": "stream",
     "text": [
      "-----> Week 14\n",
      "Price: 80\n",
      "Unit sold: 141\n",
      "Inventory: 263\n",
      "Revenue: 141430\n",
      "Predictions: [80, 80] - Revenue; 161430.0\n"
     ]
    }
   ],
   "source": [
    "print(\"-----> Week 14\")\n",
    "#eng.down_price(1)\n",
    "eng.end_week(141)\n",
    "eng.stats()\n",
    "exe = eng.predict()\n",
    "print(\"Predictions:\", exe[\"prices\"], \"- Revenue;\", exe[\"revenue\"] + eng.revenue())"
   ]
  },
  {
   "cell_type": "code",
   "execution_count": 16,
   "metadata": {},
   "outputs": [
    {
     "name": "stdout",
     "output_type": "stream",
     "text": [
      "-----> Week 15\n",
      "Price: 80\n",
      "Unit sold: 98\n",
      "Inventory: 165\n",
      "Revenue: 149270\n",
      "Predictions: [80] - Revenue; 159270.0\n"
     ]
    }
   ],
   "source": [
    "print(\"-----> Week 15\")\n",
    "#eng.down_price(1)\n",
    "eng.end_week(98)\n",
    "eng.stats()\n",
    "exe = eng.predict()\n",
    "print(\"Predictions:\", exe[\"prices\"], \"- Revenue;\", exe[\"revenue\"] + eng.revenue())"
   ]
  },
  {
   "cell_type": "code",
   "execution_count": 17,
   "metadata": {},
   "outputs": [
    {
     "name": "stdout",
     "output_type": "stream",
     "text": [
      "-----> Week 16\n",
      "Price: 80\n",
      "Unit sold: 126\n",
      "Inventory: 39\n",
      "Revenue: 159350\n"
     ]
    },
    {
     "ename": "KeyError",
     "evalue": "'prices'",
     "output_type": "error",
     "traceback": [
      "\u001b[1;31m---------------------------------------------------------------------------\u001b[0m",
      "\u001b[1;31mKeyError\u001b[0m                                  Traceback (most recent call last)",
      "\u001b[1;32m<ipython-input-17-a3663791c2ab>\u001b[0m in \u001b[0;36m<module>\u001b[1;34m\u001b[0m\n\u001b[0;32m      4\u001b[0m \u001b[0meng\u001b[0m\u001b[1;33m.\u001b[0m\u001b[0mstats\u001b[0m\u001b[1;33m(\u001b[0m\u001b[1;33m)\u001b[0m\u001b[1;33m\u001b[0m\u001b[1;33m\u001b[0m\u001b[0m\n\u001b[0;32m      5\u001b[0m \u001b[0mexe\u001b[0m \u001b[1;33m=\u001b[0m \u001b[0meng\u001b[0m\u001b[1;33m.\u001b[0m\u001b[0mpredict\u001b[0m\u001b[1;33m(\u001b[0m\u001b[1;33m)\u001b[0m\u001b[1;33m\u001b[0m\u001b[1;33m\u001b[0m\u001b[0m\n\u001b[1;32m----> 6\u001b[1;33m \u001b[0mprint\u001b[0m\u001b[1;33m(\u001b[0m\u001b[1;34m\"Predictions:\"\u001b[0m\u001b[1;33m,\u001b[0m \u001b[0mexe\u001b[0m\u001b[1;33m[\u001b[0m\u001b[1;34m\"prices\"\u001b[0m\u001b[1;33m]\u001b[0m\u001b[1;33m,\u001b[0m \u001b[1;34m\"- Revenue;\"\u001b[0m\u001b[1;33m,\u001b[0m \u001b[0mexe\u001b[0m\u001b[1;33m[\u001b[0m\u001b[1;34m\"revenue\"\u001b[0m\u001b[1;33m]\u001b[0m \u001b[1;33m+\u001b[0m \u001b[0meng\u001b[0m\u001b[1;33m.\u001b[0m\u001b[0mrevenue\u001b[0m\u001b[1;33m(\u001b[0m\u001b[1;33m)\u001b[0m\u001b[1;33m)\u001b[0m\u001b[1;33m\u001b[0m\u001b[1;33m\u001b[0m\u001b[0m\n\u001b[0m",
      "\u001b[1;31mKeyError\u001b[0m: 'prices'"
     ]
    }
   ],
   "source": [
    "print(\"-----> Week 16\")\n",
    "#eng.down_price(1)\n",
    "eng.end_week(126)\n",
    "eng.stats()\n",
    "exe = eng.predict()"
   ]
  },
  {
   "cell_type": "code",
   "execution_count": null,
   "metadata": {},
   "outputs": [],
   "source": []
  }
 ],
 "metadata": {
  "kernelspec": {
   "display_name": "Python 3",
   "language": "python",
   "name": "python3"
  },
  "language_info": {
   "codemirror_mode": {
    "name": "ipython",
    "version": 3
   },
   "file_extension": ".py",
   "mimetype": "text/x-python",
   "name": "python",
   "nbconvert_exporter": "python",
   "pygments_lexer": "ipython3",
   "version": "3.8.5"
  }
 },
 "nbformat": 4,
 "nbformat_minor": 4
}
